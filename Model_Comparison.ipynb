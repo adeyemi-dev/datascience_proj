{
  "nbformat": 4,
  "nbformat_minor": 0,
  "metadata": {
    "colab": {
      "provenance": [],
      "authorship_tag": "ABX9TyOUQj40D+b5Rdhl0/j05hEt",
      "include_colab_link": true
    },
    "kernelspec": {
      "name": "python3",
      "display_name": "Python 3"
    },
    "language_info": {
      "name": "python"
    }
  },
  "cells": [
    {
      "cell_type": "markdown",
      "metadata": {
        "id": "view-in-github",
        "colab_type": "text"
      },
      "source": [
        "<a href=\"https://colab.research.google.com/github/adeyemi-dev/datascience_proj/blob/main/Model_Comparison.ipynb\" target=\"_parent\"><img src=\"https://colab.research.google.com/assets/colab-badge.svg\" alt=\"Open In Colab\"/></a>"
      ]
    },
    {
      "cell_type": "markdown",
      "source": [
        "# Machine learning algorithm comparison on heart disease data\n",
        "\n"
      ],
      "metadata": {
        "id": "0eWETKspTh7M"
      }
    },
    {
      "cell_type": "markdown",
      "source": [
        "Importing libraries\n"
      ],
      "metadata": {
        "id": "Iujz1wU0TuXn"
      }
    },
    {
      "cell_type": "code",
      "execution_count": 17,
      "metadata": {
        "id": "WvalBjbP-QJ8"
      },
      "outputs": [],
      "source": [
        "import pandas as pd\n",
        "from sklearn.preprocessing import StandardScaler"
      ]
    },
    {
      "cell_type": "code",
      "source": [
        "dataset = pd.read_csv('heart.csv')"
      ],
      "metadata": {
        "id": "UJdR8Cda_BXI"
      },
      "execution_count": 6,
      "outputs": []
    },
    {
      "cell_type": "code",
      "source": [
        "dataset.head()"
      ],
      "metadata": {
        "colab": {
          "base_uri": "https://localhost:8080/",
          "height": 206
        },
        "id": "m7_sxd3n_TFx",
        "outputId": "56a909ee-27c8-4ea5-be6a-3f5fc24f24af"
      },
      "execution_count": 7,
      "outputs": [
        {
          "output_type": "execute_result",
          "data": {
            "text/plain": [
              "   age  sex  cp  trestbps  chol  fbs  restecg  thalach  exang  oldpeak  slope  \\\n",
              "0   52    1   0       125   212    0        1      168      0      1.0      2   \n",
              "1   53    1   0       140   203    1        0      155      1      3.1      0   \n",
              "2   70    1   0       145   174    0        1      125      1      2.6      0   \n",
              "3   61    1   0       148   203    0        1      161      0      0.0      2   \n",
              "4   62    0   0       138   294    1        1      106      0      1.9      1   \n",
              "\n",
              "   ca  thal  target  \n",
              "0   2     3       0  \n",
              "1   0     3       0  \n",
              "2   0     3       0  \n",
              "3   1     3       0  \n",
              "4   3     2       0  "
            ],
            "text/html": [
              "\n",
              "  <div id=\"df-7b64c28f-ec6a-4b0d-92df-0e246b06c901\">\n",
              "    <div class=\"colab-df-container\">\n",
              "      <div>\n",
              "<style scoped>\n",
              "    .dataframe tbody tr th:only-of-type {\n",
              "        vertical-align: middle;\n",
              "    }\n",
              "\n",
              "    .dataframe tbody tr th {\n",
              "        vertical-align: top;\n",
              "    }\n",
              "\n",
              "    .dataframe thead th {\n",
              "        text-align: right;\n",
              "    }\n",
              "</style>\n",
              "<table border=\"1\" class=\"dataframe\">\n",
              "  <thead>\n",
              "    <tr style=\"text-align: right;\">\n",
              "      <th></th>\n",
              "      <th>age</th>\n",
              "      <th>sex</th>\n",
              "      <th>cp</th>\n",
              "      <th>trestbps</th>\n",
              "      <th>chol</th>\n",
              "      <th>fbs</th>\n",
              "      <th>restecg</th>\n",
              "      <th>thalach</th>\n",
              "      <th>exang</th>\n",
              "      <th>oldpeak</th>\n",
              "      <th>slope</th>\n",
              "      <th>ca</th>\n",
              "      <th>thal</th>\n",
              "      <th>target</th>\n",
              "    </tr>\n",
              "  </thead>\n",
              "  <tbody>\n",
              "    <tr>\n",
              "      <th>0</th>\n",
              "      <td>52</td>\n",
              "      <td>1</td>\n",
              "      <td>0</td>\n",
              "      <td>125</td>\n",
              "      <td>212</td>\n",
              "      <td>0</td>\n",
              "      <td>1</td>\n",
              "      <td>168</td>\n",
              "      <td>0</td>\n",
              "      <td>1.0</td>\n",
              "      <td>2</td>\n",
              "      <td>2</td>\n",
              "      <td>3</td>\n",
              "      <td>0</td>\n",
              "    </tr>\n",
              "    <tr>\n",
              "      <th>1</th>\n",
              "      <td>53</td>\n",
              "      <td>1</td>\n",
              "      <td>0</td>\n",
              "      <td>140</td>\n",
              "      <td>203</td>\n",
              "      <td>1</td>\n",
              "      <td>0</td>\n",
              "      <td>155</td>\n",
              "      <td>1</td>\n",
              "      <td>3.1</td>\n",
              "      <td>0</td>\n",
              "      <td>0</td>\n",
              "      <td>3</td>\n",
              "      <td>0</td>\n",
              "    </tr>\n",
              "    <tr>\n",
              "      <th>2</th>\n",
              "      <td>70</td>\n",
              "      <td>1</td>\n",
              "      <td>0</td>\n",
              "      <td>145</td>\n",
              "      <td>174</td>\n",
              "      <td>0</td>\n",
              "      <td>1</td>\n",
              "      <td>125</td>\n",
              "      <td>1</td>\n",
              "      <td>2.6</td>\n",
              "      <td>0</td>\n",
              "      <td>0</td>\n",
              "      <td>3</td>\n",
              "      <td>0</td>\n",
              "    </tr>\n",
              "    <tr>\n",
              "      <th>3</th>\n",
              "      <td>61</td>\n",
              "      <td>1</td>\n",
              "      <td>0</td>\n",
              "      <td>148</td>\n",
              "      <td>203</td>\n",
              "      <td>0</td>\n",
              "      <td>1</td>\n",
              "      <td>161</td>\n",
              "      <td>0</td>\n",
              "      <td>0.0</td>\n",
              "      <td>2</td>\n",
              "      <td>1</td>\n",
              "      <td>3</td>\n",
              "      <td>0</td>\n",
              "    </tr>\n",
              "    <tr>\n",
              "      <th>4</th>\n",
              "      <td>62</td>\n",
              "      <td>0</td>\n",
              "      <td>0</td>\n",
              "      <td>138</td>\n",
              "      <td>294</td>\n",
              "      <td>1</td>\n",
              "      <td>1</td>\n",
              "      <td>106</td>\n",
              "      <td>0</td>\n",
              "      <td>1.9</td>\n",
              "      <td>1</td>\n",
              "      <td>3</td>\n",
              "      <td>2</td>\n",
              "      <td>0</td>\n",
              "    </tr>\n",
              "  </tbody>\n",
              "</table>\n",
              "</div>\n",
              "      <button class=\"colab-df-convert\" onclick=\"convertToInteractive('df-7b64c28f-ec6a-4b0d-92df-0e246b06c901')\"\n",
              "              title=\"Convert this dataframe to an interactive table.\"\n",
              "              style=\"display:none;\">\n",
              "        \n",
              "  <svg xmlns=\"http://www.w3.org/2000/svg\" height=\"24px\"viewBox=\"0 0 24 24\"\n",
              "       width=\"24px\">\n",
              "    <path d=\"M0 0h24v24H0V0z\" fill=\"none\"/>\n",
              "    <path d=\"M18.56 5.44l.94 2.06.94-2.06 2.06-.94-2.06-.94-.94-2.06-.94 2.06-2.06.94zm-11 1L8.5 8.5l.94-2.06 2.06-.94-2.06-.94L8.5 2.5l-.94 2.06-2.06.94zm10 10l.94 2.06.94-2.06 2.06-.94-2.06-.94-.94-2.06-.94 2.06-2.06.94z\"/><path d=\"M17.41 7.96l-1.37-1.37c-.4-.4-.92-.59-1.43-.59-.52 0-1.04.2-1.43.59L10.3 9.45l-7.72 7.72c-.78.78-.78 2.05 0 2.83L4 21.41c.39.39.9.59 1.41.59.51 0 1.02-.2 1.41-.59l7.78-7.78 2.81-2.81c.8-.78.8-2.07 0-2.86zM5.41 20L4 18.59l7.72-7.72 1.47 1.35L5.41 20z\"/>\n",
              "  </svg>\n",
              "      </button>\n",
              "      \n",
              "  <style>\n",
              "    .colab-df-container {\n",
              "      display:flex;\n",
              "      flex-wrap:wrap;\n",
              "      gap: 12px;\n",
              "    }\n",
              "\n",
              "    .colab-df-convert {\n",
              "      background-color: #E8F0FE;\n",
              "      border: none;\n",
              "      border-radius: 50%;\n",
              "      cursor: pointer;\n",
              "      display: none;\n",
              "      fill: #1967D2;\n",
              "      height: 32px;\n",
              "      padding: 0 0 0 0;\n",
              "      width: 32px;\n",
              "    }\n",
              "\n",
              "    .colab-df-convert:hover {\n",
              "      background-color: #E2EBFA;\n",
              "      box-shadow: 0px 1px 2px rgba(60, 64, 67, 0.3), 0px 1px 3px 1px rgba(60, 64, 67, 0.15);\n",
              "      fill: #174EA6;\n",
              "    }\n",
              "\n",
              "    [theme=dark] .colab-df-convert {\n",
              "      background-color: #3B4455;\n",
              "      fill: #D2E3FC;\n",
              "    }\n",
              "\n",
              "    [theme=dark] .colab-df-convert:hover {\n",
              "      background-color: #434B5C;\n",
              "      box-shadow: 0px 1px 3px 1px rgba(0, 0, 0, 0.15);\n",
              "      filter: drop-shadow(0px 1px 2px rgba(0, 0, 0, 0.3));\n",
              "      fill: #FFFFFF;\n",
              "    }\n",
              "  </style>\n",
              "\n",
              "      <script>\n",
              "        const buttonEl =\n",
              "          document.querySelector('#df-7b64c28f-ec6a-4b0d-92df-0e246b06c901 button.colab-df-convert');\n",
              "        buttonEl.style.display =\n",
              "          google.colab.kernel.accessAllowed ? 'block' : 'none';\n",
              "\n",
              "        async function convertToInteractive(key) {\n",
              "          const element = document.querySelector('#df-7b64c28f-ec6a-4b0d-92df-0e246b06c901');\n",
              "          const dataTable =\n",
              "            await google.colab.kernel.invokeFunction('convertToInteractive',\n",
              "                                                     [key], {});\n",
              "          if (!dataTable) return;\n",
              "\n",
              "          const docLinkHtml = 'Like what you see? Visit the ' +\n",
              "            '<a target=\"_blank\" href=https://colab.research.google.com/notebooks/data_table.ipynb>data table notebook</a>'\n",
              "            + ' to learn more about interactive tables.';\n",
              "          element.innerHTML = '';\n",
              "          dataTable['output_type'] = 'display_data';\n",
              "          await google.colab.output.renderOutput(dataTable, element);\n",
              "          const docLink = document.createElement('div');\n",
              "          docLink.innerHTML = docLinkHtml;\n",
              "          element.appendChild(docLink);\n",
              "        }\n",
              "      </script>\n",
              "    </div>\n",
              "  </div>\n",
              "  "
            ]
          },
          "metadata": {},
          "execution_count": 7
        }
      ]
    },
    {
      "cell_type": "code",
      "source": [
        "dataset.shape"
      ],
      "metadata": {
        "colab": {
          "base_uri": "https://localhost:8080/"
        },
        "id": "5ybvLt-nBplS",
        "outputId": "a9369204-0f25-438a-e74b-36f69171809f"
      },
      "execution_count": 11,
      "outputs": [
        {
          "output_type": "execute_result",
          "data": {
            "text/plain": [
              "(1025, 14)"
            ]
          },
          "metadata": {},
          "execution_count": 11
        }
      ]
    },
    {
      "cell_type": "markdown",
      "source": [
        "Getting the X and Y variables from our dataset"
      ],
      "metadata": {
        "id": "Bij1BKhSA6UM"
      }
    },
    {
      "cell_type": "code",
      "source": [
        "X = dataset.drop(columns='target',axis=1)\n",
        "Y= dataset['target']\n",
        "scaler = StandardScaler()\n",
        "scaler.fit(X_train)"
      ],
      "metadata": {
        "id": "sn5ksTPqAiJW"
      },
      "execution_count": 8,
      "outputs": []
    },
    {
      "cell_type": "markdown",
      "source": [
        "Dateset Splitting"
      ],
      "metadata": {
        "id": "XnAqNHA_ATHs"
      }
    },
    {
      "cell_type": "code",
      "source": [
        "from sklearn.model_selection import train_test_split"
      ],
      "metadata": {
        "id": "jYnITeia_pJy"
      },
      "execution_count": 5,
      "outputs": []
    },
    {
      "cell_type": "code",
      "source": [
        "X_train, X_test, Y_train, Y_test = train_test_split(X, Y, test_size=0.2)\n"
      ],
      "metadata": {
        "id": "peUXKlOwAY-z"
      },
      "execution_count": 9,
      "outputs": []
    },
    {
      "cell_type": "markdown",
      "source": [
        "scaling the data"
      ],
      "metadata": {
        "id": "gYWsNuy7GrqR"
      }
    },
    {
      "cell_type": "code",
      "source": [
        "scaler = StandardScaler()\n",
        "scaler.fit(X_train)\n",
        "X_train_scaled = scaler.transform(X_train)\n",
        "X_test_scaled = scaler.transform(X_test)"
      ],
      "metadata": {
        "id": "NsrsxiHQGvEu"
      },
      "execution_count": 18,
      "outputs": []
    },
    {
      "cell_type": "markdown",
      "source": [
        "Examine the Data Dimenssion"
      ],
      "metadata": {
        "id": "H4eG--u6BbA3"
      }
    },
    {
      "cell_type": "code",
      "source": [
        "X_train_scaled.shape, Y_train.shape"
      ],
      "metadata": {
        "colab": {
          "base_uri": "https://localhost:8080/"
        },
        "id": "NqcE4JpFBd8k",
        "outputId": "1c418383-2694-4562-a064-6845a7a9c8d4"
      },
      "execution_count": 19,
      "outputs": [
        {
          "output_type": "execute_result",
          "data": {
            "text/plain": [
              "((820, 13), (820,))"
            ]
          },
          "metadata": {},
          "execution_count": 19
        }
      ]
    },
    {
      "cell_type": "code",
      "source": [
        "X_test_scaled.shape, Y_test.shape"
      ],
      "metadata": {
        "colab": {
          "base_uri": "https://localhost:8080/"
        },
        "id": "YRyynnemBk_D",
        "outputId": "0192cd07-a4c1-49f7-8eaf-c9426d60f41d"
      },
      "execution_count": 20,
      "outputs": [
        {
          "output_type": "execute_result",
          "data": {
            "text/plain": [
              "((205, 13), (205,))"
            ]
          },
          "metadata": {},
          "execution_count": 20
        }
      ]
    },
    {
      "cell_type": "markdown",
      "source": [
        "Build Classification model"
      ],
      "metadata": {
        "id": "b7NCcMt4B6p_"
      }
    },
    {
      "cell_type": "code",
      "source": [
        "from sklearn.neural_network import MLPClassifier\n",
        "from sklearn.neighbors import KNeighborsClassifier\n",
        "from sklearn.svm import SVC\n",
        "from sklearn.gaussian_process import GaussianProcessClassifier\n",
        "from sklearn.ensemble import GradientBoostingClassifier\n",
        "from sklearn.gaussian_process.kernels import RBF\n",
        "from sklearn.tree import DecisionTreeClassifier\n",
        "from sklearn.ensemble import ExtraTreesClassifier\n",
        "from sklearn.ensemble import RandomForestClassifier, AdaBoostClassifier\n",
        "from sklearn.naive_bayes import GaussianNB\n",
        "from sklearn.discriminant_analysis import QuadraticDiscriminantAnalysis\n",
        "from sklearn.linear_model import SGDClassifier"
      ],
      "metadata": {
        "id": "89EpwmSCB6YE"
      },
      "execution_count": 13,
      "outputs": []
    },
    {
      "cell_type": "markdown",
      "source": [
        "Defining the learning Classfifer"
      ],
      "metadata": {
        "id": "pZKSDCt6EFez"
      }
    },
    {
      "cell_type": "code",
      "source": [
        "names = [\"Nearest_Neighbors\", \"Linear_SVM\", \"Polynomial_SVM\", \"RBF_SVM\", \"Gaussian_Process\",\n",
        "         \"Gradient_Boosting\", \"Decision_Tree\", \"Extra_Trees\", \"Random_Forest\", \"Neural_Net\", \"AdaBoost\",\n",
        "         \"Naive_Bayes\", \"QDA\", \"SGD\"]\n",
        "\n",
        "classifiers = [\n",
        "    KNeighborsClassifier(3),\n",
        "    SVC(kernel=\"linear\", C=0.025),\n",
        "    SVC(kernel=\"poly\", degree=3, C=0.025),\n",
        "    SVC(kernel=\"rbf\", C=1, gamma=2),\n",
        "    GaussianProcessClassifier(1.0 * RBF(1.0)),\n",
        "    GradientBoostingClassifier(n_estimators=100, learning_rate=1.0),\n",
        "    DecisionTreeClassifier(max_depth=5),\n",
        "    ExtraTreesClassifier(n_estimators=10, min_samples_split=2),\n",
        "    RandomForestClassifier(max_depth=5, n_estimators=100),\n",
        "    MLPClassifier(alpha=1, max_iter=1000),\n",
        "    AdaBoostClassifier(n_estimators=100),\n",
        "    GaussianNB(),\n",
        "    QuadraticDiscriminantAnalysis(),\n",
        "    SGDClassifier(loss=\"hinge\", penalty=\"l2\")]"
      ],
      "metadata": {
        "id": "PPPZhv9eEKYk"
      },
      "execution_count": 14,
      "outputs": []
    },
    {
      "cell_type": "markdown",
      "source": [
        "#Build Model, Apply Model on Test Data & Record Accuracy Scores"
      ],
      "metadata": {
        "id": "0eGwUDV-Ed4N"
      }
    },
    {
      "cell_type": "code",
      "source": [
        "scores = []\n",
        "for name, clf in zip(names, classifiers):\n",
        "    clf.fit(X_train_scaled , Y_train)\n",
        "    score = clf.score(X_test_scaled , Y_test)\n",
        "    scores.append(score)"
      ],
      "metadata": {
        "id": "bDK4lV4cEdqr"
      },
      "execution_count": 21,
      "outputs": []
    },
    {
      "cell_type": "code",
      "source": [
        "scores\n"
      ],
      "metadata": {
        "colab": {
          "base_uri": "https://localhost:8080/"
        },
        "id": "aQA1TDZSFNEM",
        "outputId": "a442f1e3-53f5-435b-9750-f9d646ecaab9"
      },
      "execution_count": 22,
      "outputs": [
        {
          "output_type": "execute_result",
          "data": {
            "text/plain": [
              "[0.9512195121951219,\n",
              " 0.8439024390243902,\n",
              " 0.8341463414634146,\n",
              " 1.0,\n",
              " 1.0,\n",
              " 1.0,\n",
              " 0.9317073170731708,\n",
              " 1.0,\n",
              " 0.9170731707317074,\n",
              " 0.9219512195121952,\n",
              " 0.9219512195121952,\n",
              " 0.8390243902439024,\n",
              " 0.8390243902439024,\n",
              " 0.8536585365853658]"
            ]
          },
          "metadata": {},
          "execution_count": 22
        }
      ]
    },
    {
      "cell_type": "markdown",
      "source": [
        "#Create data frame of model performance"
      ],
      "metadata": {
        "id": "qkeoJu0VHzHc"
      }
    },
    {
      "cell_type": "code",
      "source": [
        "df = pd.DataFrame()\n",
        "df['name'] = names\n",
        "df['score'] = scores\n",
        "df"
      ],
      "metadata": {
        "colab": {
          "base_uri": "https://localhost:8080/",
          "height": 488
        },
        "id": "CjNQO73RH0RO",
        "outputId": "e5c59daa-42f5-4860-feae-aa86f60ca19b"
      },
      "execution_count": 23,
      "outputs": [
        {
          "output_type": "execute_result",
          "data": {
            "text/plain": [
              "                 name     score\n",
              "0   Nearest_Neighbors  0.951220\n",
              "1          Linear_SVM  0.843902\n",
              "2      Polynomial_SVM  0.834146\n",
              "3             RBF_SVM  1.000000\n",
              "4    Gaussian_Process  1.000000\n",
              "5   Gradient_Boosting  1.000000\n",
              "6       Decision_Tree  0.931707\n",
              "7         Extra_Trees  1.000000\n",
              "8       Random_Forest  0.917073\n",
              "9          Neural_Net  0.921951\n",
              "10           AdaBoost  0.921951\n",
              "11        Naive_Bayes  0.839024\n",
              "12                QDA  0.839024\n",
              "13                SGD  0.853659"
            ],
            "text/html": [
              "\n",
              "  <div id=\"df-a4b9b914-41cf-4545-95cc-01e1b058d1e3\">\n",
              "    <div class=\"colab-df-container\">\n",
              "      <div>\n",
              "<style scoped>\n",
              "    .dataframe tbody tr th:only-of-type {\n",
              "        vertical-align: middle;\n",
              "    }\n",
              "\n",
              "    .dataframe tbody tr th {\n",
              "        vertical-align: top;\n",
              "    }\n",
              "\n",
              "    .dataframe thead th {\n",
              "        text-align: right;\n",
              "    }\n",
              "</style>\n",
              "<table border=\"1\" class=\"dataframe\">\n",
              "  <thead>\n",
              "    <tr style=\"text-align: right;\">\n",
              "      <th></th>\n",
              "      <th>name</th>\n",
              "      <th>score</th>\n",
              "    </tr>\n",
              "  </thead>\n",
              "  <tbody>\n",
              "    <tr>\n",
              "      <th>0</th>\n",
              "      <td>Nearest_Neighbors</td>\n",
              "      <td>0.951220</td>\n",
              "    </tr>\n",
              "    <tr>\n",
              "      <th>1</th>\n",
              "      <td>Linear_SVM</td>\n",
              "      <td>0.843902</td>\n",
              "    </tr>\n",
              "    <tr>\n",
              "      <th>2</th>\n",
              "      <td>Polynomial_SVM</td>\n",
              "      <td>0.834146</td>\n",
              "    </tr>\n",
              "    <tr>\n",
              "      <th>3</th>\n",
              "      <td>RBF_SVM</td>\n",
              "      <td>1.000000</td>\n",
              "    </tr>\n",
              "    <tr>\n",
              "      <th>4</th>\n",
              "      <td>Gaussian_Process</td>\n",
              "      <td>1.000000</td>\n",
              "    </tr>\n",
              "    <tr>\n",
              "      <th>5</th>\n",
              "      <td>Gradient_Boosting</td>\n",
              "      <td>1.000000</td>\n",
              "    </tr>\n",
              "    <tr>\n",
              "      <th>6</th>\n",
              "      <td>Decision_Tree</td>\n",
              "      <td>0.931707</td>\n",
              "    </tr>\n",
              "    <tr>\n",
              "      <th>7</th>\n",
              "      <td>Extra_Trees</td>\n",
              "      <td>1.000000</td>\n",
              "    </tr>\n",
              "    <tr>\n",
              "      <th>8</th>\n",
              "      <td>Random_Forest</td>\n",
              "      <td>0.917073</td>\n",
              "    </tr>\n",
              "    <tr>\n",
              "      <th>9</th>\n",
              "      <td>Neural_Net</td>\n",
              "      <td>0.921951</td>\n",
              "    </tr>\n",
              "    <tr>\n",
              "      <th>10</th>\n",
              "      <td>AdaBoost</td>\n",
              "      <td>0.921951</td>\n",
              "    </tr>\n",
              "    <tr>\n",
              "      <th>11</th>\n",
              "      <td>Naive_Bayes</td>\n",
              "      <td>0.839024</td>\n",
              "    </tr>\n",
              "    <tr>\n",
              "      <th>12</th>\n",
              "      <td>QDA</td>\n",
              "      <td>0.839024</td>\n",
              "    </tr>\n",
              "    <tr>\n",
              "      <th>13</th>\n",
              "      <td>SGD</td>\n",
              "      <td>0.853659</td>\n",
              "    </tr>\n",
              "  </tbody>\n",
              "</table>\n",
              "</div>\n",
              "      <button class=\"colab-df-convert\" onclick=\"convertToInteractive('df-a4b9b914-41cf-4545-95cc-01e1b058d1e3')\"\n",
              "              title=\"Convert this dataframe to an interactive table.\"\n",
              "              style=\"display:none;\">\n",
              "        \n",
              "  <svg xmlns=\"http://www.w3.org/2000/svg\" height=\"24px\"viewBox=\"0 0 24 24\"\n",
              "       width=\"24px\">\n",
              "    <path d=\"M0 0h24v24H0V0z\" fill=\"none\"/>\n",
              "    <path d=\"M18.56 5.44l.94 2.06.94-2.06 2.06-.94-2.06-.94-.94-2.06-.94 2.06-2.06.94zm-11 1L8.5 8.5l.94-2.06 2.06-.94-2.06-.94L8.5 2.5l-.94 2.06-2.06.94zm10 10l.94 2.06.94-2.06 2.06-.94-2.06-.94-.94-2.06-.94 2.06-2.06.94z\"/><path d=\"M17.41 7.96l-1.37-1.37c-.4-.4-.92-.59-1.43-.59-.52 0-1.04.2-1.43.59L10.3 9.45l-7.72 7.72c-.78.78-.78 2.05 0 2.83L4 21.41c.39.39.9.59 1.41.59.51 0 1.02-.2 1.41-.59l7.78-7.78 2.81-2.81c.8-.78.8-2.07 0-2.86zM5.41 20L4 18.59l7.72-7.72 1.47 1.35L5.41 20z\"/>\n",
              "  </svg>\n",
              "      </button>\n",
              "      \n",
              "  <style>\n",
              "    .colab-df-container {\n",
              "      display:flex;\n",
              "      flex-wrap:wrap;\n",
              "      gap: 12px;\n",
              "    }\n",
              "\n",
              "    .colab-df-convert {\n",
              "      background-color: #E8F0FE;\n",
              "      border: none;\n",
              "      border-radius: 50%;\n",
              "      cursor: pointer;\n",
              "      display: none;\n",
              "      fill: #1967D2;\n",
              "      height: 32px;\n",
              "      padding: 0 0 0 0;\n",
              "      width: 32px;\n",
              "    }\n",
              "\n",
              "    .colab-df-convert:hover {\n",
              "      background-color: #E2EBFA;\n",
              "      box-shadow: 0px 1px 2px rgba(60, 64, 67, 0.3), 0px 1px 3px 1px rgba(60, 64, 67, 0.15);\n",
              "      fill: #174EA6;\n",
              "    }\n",
              "\n",
              "    [theme=dark] .colab-df-convert {\n",
              "      background-color: #3B4455;\n",
              "      fill: #D2E3FC;\n",
              "    }\n",
              "\n",
              "    [theme=dark] .colab-df-convert:hover {\n",
              "      background-color: #434B5C;\n",
              "      box-shadow: 0px 1px 3px 1px rgba(0, 0, 0, 0.15);\n",
              "      filter: drop-shadow(0px 1px 2px rgba(0, 0, 0, 0.3));\n",
              "      fill: #FFFFFF;\n",
              "    }\n",
              "  </style>\n",
              "\n",
              "      <script>\n",
              "        const buttonEl =\n",
              "          document.querySelector('#df-a4b9b914-41cf-4545-95cc-01e1b058d1e3 button.colab-df-convert');\n",
              "        buttonEl.style.display =\n",
              "          google.colab.kernel.accessAllowed ? 'block' : 'none';\n",
              "\n",
              "        async function convertToInteractive(key) {\n",
              "          const element = document.querySelector('#df-a4b9b914-41cf-4545-95cc-01e1b058d1e3');\n",
              "          const dataTable =\n",
              "            await google.colab.kernel.invokeFunction('convertToInteractive',\n",
              "                                                     [key], {});\n",
              "          if (!dataTable) return;\n",
              "\n",
              "          const docLinkHtml = 'Like what you see? Visit the ' +\n",
              "            '<a target=\"_blank\" href=https://colab.research.google.com/notebooks/data_table.ipynb>data table notebook</a>'\n",
              "            + ' to learn more about interactive tables.';\n",
              "          element.innerHTML = '';\n",
              "          dataTable['output_type'] = 'display_data';\n",
              "          await google.colab.output.renderOutput(dataTable, element);\n",
              "          const docLink = document.createElement('div');\n",
              "          docLink.innerHTML = docLinkHtml;\n",
              "          element.appendChild(docLink);\n",
              "        }\n",
              "      </script>\n",
              "    </div>\n",
              "  </div>\n",
              "  "
            ]
          },
          "metadata": {},
          "execution_count": 23
        }
      ]
    },
    {
      "cell_type": "markdown",
      "source": [
        "# Bar plot of model performance"
      ],
      "metadata": {
        "id": "yNnDu8S-IHGX"
      }
    },
    {
      "cell_type": "code",
      "source": [
        "#https://pandas.pydata.org/pandas-docs/stable/user_guide/style.html\n",
        "import seaborn as sns\n",
        "\n",
        "cm = sns.light_palette(\"green\", as_cmap=True)\n",
        "s = df.style.background_gradient(cmap=cm)\n",
        "s"
      ],
      "metadata": {
        "colab": {
          "base_uri": "https://localhost:8080/",
          "height": 488
        },
        "id": "PTosZJ0tIF5f",
        "outputId": "7d61c8b2-95ec-47df-ee7a-3c14583ea375"
      },
      "execution_count": 26,
      "outputs": [
        {
          "output_type": "execute_result",
          "data": {
            "text/plain": [
              "<pandas.io.formats.style.Styler at 0x7f9dc1463100>"
            ],
            "text/html": [
              "<style type=\"text/css\">\n",
              "#T_fee79_row0_col1 {\n",
              "  background-color: #45a245;\n",
              "  color: #f1f1f1;\n",
              "}\n",
              "#T_fee79_row1_col1 {\n",
              "  background-color: #ddecdd;\n",
              "  color: #000000;\n",
              "}\n",
              "#T_fee79_row2_col1 {\n",
              "  background-color: #ebf3eb;\n",
              "  color: #000000;\n",
              "}\n",
              "#T_fee79_row3_col1, #T_fee79_row4_col1, #T_fee79_row5_col1, #T_fee79_row7_col1 {\n",
              "  background-color: #008000;\n",
              "  color: #f1f1f1;\n",
              "}\n",
              "#T_fee79_row6_col1 {\n",
              "  background-color: #61af61;\n",
              "  color: #f1f1f1;\n",
              "}\n",
              "#T_fee79_row8_col1 {\n",
              "  background-color: #75b975;\n",
              "  color: #f1f1f1;\n",
              "}\n",
              "#T_fee79_row9_col1, #T_fee79_row10_col1 {\n",
              "  background-color: #6eb66e;\n",
              "  color: #f1f1f1;\n",
              "}\n",
              "#T_fee79_row11_col1, #T_fee79_row12_col1 {\n",
              "  background-color: #e4f0e4;\n",
              "  color: #000000;\n",
              "}\n",
              "#T_fee79_row13_col1 {\n",
              "  background-color: #cfe5cf;\n",
              "  color: #000000;\n",
              "}\n",
              "</style>\n",
              "<table id=\"T_fee79_\" class=\"dataframe\">\n",
              "  <thead>\n",
              "    <tr>\n",
              "      <th class=\"blank level0\" >&nbsp;</th>\n",
              "      <th class=\"col_heading level0 col0\" >name</th>\n",
              "      <th class=\"col_heading level0 col1\" >score</th>\n",
              "    </tr>\n",
              "  </thead>\n",
              "  <tbody>\n",
              "    <tr>\n",
              "      <th id=\"T_fee79_level0_row0\" class=\"row_heading level0 row0\" >0</th>\n",
              "      <td id=\"T_fee79_row0_col0\" class=\"data row0 col0\" >Nearest_Neighbors</td>\n",
              "      <td id=\"T_fee79_row0_col1\" class=\"data row0 col1\" >0.951220</td>\n",
              "    </tr>\n",
              "    <tr>\n",
              "      <th id=\"T_fee79_level0_row1\" class=\"row_heading level0 row1\" >1</th>\n",
              "      <td id=\"T_fee79_row1_col0\" class=\"data row1 col0\" >Linear_SVM</td>\n",
              "      <td id=\"T_fee79_row1_col1\" class=\"data row1 col1\" >0.843902</td>\n",
              "    </tr>\n",
              "    <tr>\n",
              "      <th id=\"T_fee79_level0_row2\" class=\"row_heading level0 row2\" >2</th>\n",
              "      <td id=\"T_fee79_row2_col0\" class=\"data row2 col0\" >Polynomial_SVM</td>\n",
              "      <td id=\"T_fee79_row2_col1\" class=\"data row2 col1\" >0.834146</td>\n",
              "    </tr>\n",
              "    <tr>\n",
              "      <th id=\"T_fee79_level0_row3\" class=\"row_heading level0 row3\" >3</th>\n",
              "      <td id=\"T_fee79_row3_col0\" class=\"data row3 col0\" >RBF_SVM</td>\n",
              "      <td id=\"T_fee79_row3_col1\" class=\"data row3 col1\" >1.000000</td>\n",
              "    </tr>\n",
              "    <tr>\n",
              "      <th id=\"T_fee79_level0_row4\" class=\"row_heading level0 row4\" >4</th>\n",
              "      <td id=\"T_fee79_row4_col0\" class=\"data row4 col0\" >Gaussian_Process</td>\n",
              "      <td id=\"T_fee79_row4_col1\" class=\"data row4 col1\" >1.000000</td>\n",
              "    </tr>\n",
              "    <tr>\n",
              "      <th id=\"T_fee79_level0_row5\" class=\"row_heading level0 row5\" >5</th>\n",
              "      <td id=\"T_fee79_row5_col0\" class=\"data row5 col0\" >Gradient_Boosting</td>\n",
              "      <td id=\"T_fee79_row5_col1\" class=\"data row5 col1\" >1.000000</td>\n",
              "    </tr>\n",
              "    <tr>\n",
              "      <th id=\"T_fee79_level0_row6\" class=\"row_heading level0 row6\" >6</th>\n",
              "      <td id=\"T_fee79_row6_col0\" class=\"data row6 col0\" >Decision_Tree</td>\n",
              "      <td id=\"T_fee79_row6_col1\" class=\"data row6 col1\" >0.931707</td>\n",
              "    </tr>\n",
              "    <tr>\n",
              "      <th id=\"T_fee79_level0_row7\" class=\"row_heading level0 row7\" >7</th>\n",
              "      <td id=\"T_fee79_row7_col0\" class=\"data row7 col0\" >Extra_Trees</td>\n",
              "      <td id=\"T_fee79_row7_col1\" class=\"data row7 col1\" >1.000000</td>\n",
              "    </tr>\n",
              "    <tr>\n",
              "      <th id=\"T_fee79_level0_row8\" class=\"row_heading level0 row8\" >8</th>\n",
              "      <td id=\"T_fee79_row8_col0\" class=\"data row8 col0\" >Random_Forest</td>\n",
              "      <td id=\"T_fee79_row8_col1\" class=\"data row8 col1\" >0.917073</td>\n",
              "    </tr>\n",
              "    <tr>\n",
              "      <th id=\"T_fee79_level0_row9\" class=\"row_heading level0 row9\" >9</th>\n",
              "      <td id=\"T_fee79_row9_col0\" class=\"data row9 col0\" >Neural_Net</td>\n",
              "      <td id=\"T_fee79_row9_col1\" class=\"data row9 col1\" >0.921951</td>\n",
              "    </tr>\n",
              "    <tr>\n",
              "      <th id=\"T_fee79_level0_row10\" class=\"row_heading level0 row10\" >10</th>\n",
              "      <td id=\"T_fee79_row10_col0\" class=\"data row10 col0\" >AdaBoost</td>\n",
              "      <td id=\"T_fee79_row10_col1\" class=\"data row10 col1\" >0.921951</td>\n",
              "    </tr>\n",
              "    <tr>\n",
              "      <th id=\"T_fee79_level0_row11\" class=\"row_heading level0 row11\" >11</th>\n",
              "      <td id=\"T_fee79_row11_col0\" class=\"data row11 col0\" >Naive_Bayes</td>\n",
              "      <td id=\"T_fee79_row11_col1\" class=\"data row11 col1\" >0.839024</td>\n",
              "    </tr>\n",
              "    <tr>\n",
              "      <th id=\"T_fee79_level0_row12\" class=\"row_heading level0 row12\" >12</th>\n",
              "      <td id=\"T_fee79_row12_col0\" class=\"data row12 col0\" >QDA</td>\n",
              "      <td id=\"T_fee79_row12_col1\" class=\"data row12 col1\" >0.839024</td>\n",
              "    </tr>\n",
              "    <tr>\n",
              "      <th id=\"T_fee79_level0_row13\" class=\"row_heading level0 row13\" >13</th>\n",
              "      <td id=\"T_fee79_row13_col0\" class=\"data row13 col0\" >SGD</td>\n",
              "      <td id=\"T_fee79_row13_col1\" class=\"data row13 col1\" >0.853659</td>\n",
              "    </tr>\n",
              "  </tbody>\n",
              "</table>\n"
            ]
          },
          "metadata": {},
          "execution_count": 26
        }
      ]
    },
    {
      "cell_type": "markdown",
      "source": [
        "# Bar plot of model performance\n"
      ],
      "metadata": {
        "id": "cGFOuG9UJshE"
      }
    },
    {
      "cell_type": "code",
      "source": [
        "sns.set(style=\"whitegrid\")\n",
        "ax = sns.barplot(y=\"name\", x=\"score\", data=df)"
      ],
      "metadata": {
        "colab": {
          "base_uri": "https://localhost:8080/",
          "height": 285
        },
        "id": "dwJJpkYhJn_z",
        "outputId": "2ba2258a-de8b-4408-f779-36af0af755b8"
      },
      "execution_count": 27,
      "outputs": [
        {
          "output_type": "display_data",
          "data": {
            "text/plain": [
              "<Figure size 432x288 with 1 Axes>"
            ],
            "image/png": "[encoded data removed]"
          },
          "metadata": {}
        }
      ]
    }
  ]
}